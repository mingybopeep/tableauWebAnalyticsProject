{
 "cells": [
  {
   "cell_type": "code",
   "execution_count": 44,
   "metadata": {},
   "outputs": [],
   "source": [
    "cities = 'Bath Birmingham Bradford Brighton Bristol Cambridge Canterbury Carlisle Chester Chichester Coventry Derby Durham Ely Exeter Gloucester Hereford Kingston Lancaster Leeds Leicester Lichfield Lincoln Liverpool London Manchester Newcastle Norwich Nottingham Oxford Peterborough Plymouth Portsmouth Preston Ripon Salford Salisbury Sheffield Southampton St-Albans Stoke-on-Trent Sunderland Truro Wakefield Wells Westminster Winchester Wolverhampton Worcester York'\n",
    "cities = cities.split(' ')\n",
    "\n",
    "campaigns = ['3NJJ99JD9CDC9B', 'DS3W4LKJN433', 'GOOG003003542354']"
   ]
  },
  {
   "cell_type": "code",
   "execution_count": 45,
   "metadata": {},
   "outputs": [],
   "source": [
    "from random import randrange\n",
    "import datetime \n",
    "\n",
    "now = datetime.datetime.now() - datetime.timedelta(days=1)\n",
    "\n",
    "def random_date(): \n",
    "    global now\n",
    "    now = now + datetime.timedelta(seconds=randrange(42))\n",
    "    return now.strftime(\"%d/%m/%y %H:%M\")"
   ]
  },
  {
   "cell_type": "code",
   "execution_count": 46,
   "metadata": {},
   "outputs": [],
   "source": [
    "#Create some dummy data\n",
    "import random\n",
    "\n",
    "headers = ['campaignId', 'timestamp', 'location', 'clicked', 'amountSpent']\n",
    "googleads = [headers]\n",
    "fbads = [headers]\n",
    "\n",
    "for i in range (2000): \n",
    "    sheetn = random.randint(0,2)\n",
    "    city = cities[random.randint(0, len(cities) -1 )]\n",
    "    timestamp = random_date()\n",
    "    clicked = random.randint(0, 10) == 5\n",
    "    amountSpent = 0\n",
    "    if clicked: \n",
    "        if random.randint(0, 3) == 3: \n",
    "            amountSpent = random.randint(10, 100)\n",
    "            \n",
    "    row = [timestamp, city, clicked, amountSpent]\n",
    "        \n",
    "    if sheetn == 0: \n",
    "        row.insert(0, campaigns[0])\n",
    "        googleads.append(row)\n",
    "        \n",
    "    else: \n",
    "        row.insert(0, campaigns[sheetn])\n",
    "        fbads.append(row)\n",
    "        "
   ]
  },
  {
   "cell_type": "code",
   "execution_count": 47,
   "metadata": {},
   "outputs": [],
   "source": [
    "from googleapiclient.discovery import build\n",
    "from google.oauth2 import service_account\n",
    "#connect to the spreadsheet\n",
    "SERVICE_ACCOUNT_FILE = './WebAnalyticsPython-9b204fa4f247.json'\n",
    "SCOPES = ['https://www.googleapis.com/auth/spreadsheets']\n",
    "\n",
    "credentials = None\n",
    "credentials = service_account.Credentials.from_service_account_file(SERVICE_ACCOUNT_FILE, scopes=SCOPES)\n",
    "\n",
    "service = build('sheets', 'v4', credentials=credentials)\n",
    "\n",
    "\n",
    "# The ID and range of a sample spreadsheet.\n",
    "SPREADSHEET_ID = '180USFPLYTKuQ4JUWdG1-jG7lX85Uc-EgzoU19kQgEZI'\n",
    "RANGE_NAME = 'google!A1'\n",
    "# Call the Sheets API\n",
    "request = service.spreadsheets().values().update(spreadsheetId=SPREADSHEET_ID, \n",
    "                                                 range=RANGE_NAME, \n",
    "                                                 valueInputOption='RAW', \n",
    "                                                 body={'values':googleads}).execute()\n",
    "\n",
    "# The ID and range of a sample spreadsheet.\n",
    "RANGE_NAME = 'facebook!A1'\n",
    "# Call the Sheets API\n",
    "request = service.spreadsheets().values().update(spreadsheetId=SPREADSHEET_ID, \n",
    "                                                 range=RANGE_NAME, \n",
    "                                                 valueInputOption='RAW', \n",
    "                                                 body={'values':fbads}).execute()\n"
   ]
  },
  {
   "cell_type": "code",
   "execution_count": null,
   "metadata": {},
   "outputs": [],
   "source": []
  }
 ],
 "metadata": {
  "kernelspec": {
   "display_name": "Python 3",
   "language": "python",
   "name": "python3"
  },
  "language_info": {
   "codemirror_mode": {
    "name": "ipython",
    "version": 3
   },
   "file_extension": ".py",
   "mimetype": "text/x-python",
   "name": "python",
   "nbconvert_exporter": "python",
   "pygments_lexer": "ipython3",
   "version": "3.8.5"
  }
 },
 "nbformat": 4,
 "nbformat_minor": 4
}
